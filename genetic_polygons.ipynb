{
 "cells": [
  {
   "cell_type": "code",
   "execution_count": 5,
   "metadata": {},
   "outputs": [],
   "source": [
    "%load_ext autoreload\n",
    "%autoreload 2\n",
    "%matplotlib inline"
   ]
  },
  {
   "cell_type": "code",
   "execution_count": 6,
   "metadata": {},
   "outputs": [],
   "source": [
    "from PIL import Image, ImageDraw, ImageFont\n",
    "import numpy as np\n",
    "import pandas as pd\n",
    "from genetic_stuff import *\n"
   ]
  },
  {
   "cell_type": "code",
   "execution_count": 7,
   "metadata": {},
   "outputs": [],
   "source": [
    "target = Image.open('pickle.png').convert('RGBA')\n",
    "# target = target.resize((500, 500))\n",
    "\n",
    "# make a blank image for the text, initialized to transparent text color\n",
    "environment = Image.new('RGBA', target.size, (255, 255, 255, 0))"
   ]
  },
  {
   "cell_type": "code",
   "execution_count": 285,
   "metadata": {},
   "outputs": [
    {
     "data": {
      "text/plain": [
       "(800, 605, 4)"
      ]
     },
     "execution_count": 285,
     "metadata": {},
     "output_type": "execute_result"
    }
   ],
   "source": [
    "np.asarray(environment).shape"
   ]
  },
  {
   "cell_type": "code",
   "execution_count": 209,
   "metadata": {},
   "outputs": [],
   "source": [
    "d = Organism(6, environment, n_points=3)"
   ]
  },
  {
   "cell_type": "code",
   "execution_count": 210,
   "metadata": {},
   "outputs": [
    {
     "data": {
      "image/png": "[encoded data removed]",
      "text/plain": [
       "<PIL.Image.Image image mode=RGBA size=605x800 at 0x1FF12949128>"
      ]
     },
     "execution_count": 210,
     "metadata": {},
     "output_type": "execute_result"
    }
   ],
   "source": [
    "d.draw()"
   ]
  },
  {
   "cell_type": "code",
   "execution_count": 173,
   "metadata": {},
   "outputs": [],
   "source": [
    "d.genes[0].coordinates = [(0, 0), (d.genes[0].width-10, 0), (d.genes[0].height-10, d.genes[0].height-10), (0, d.genes[0].height-10)]\n",
    "d.genes[0].color = [0, 0, 0, 128]\n",
    "d.genes[1].color = [255, 255, 255, 128]\n",
    "d.genes[1].coordinates = [(0, 0), (d.genes[0].width-10, 0), (d.genes[0].height-10, d.genes[0].height-10), (0, d.genes[0].height-10)]"
   ]
  },
  {
   "cell_type": "code",
   "execution_count": 216,
   "metadata": {},
   "outputs": [],
   "source": [
    "import cv2"
   ]
  },
  {
   "cell_type": "code",
   "execution_count": 230,
   "metadata": {},
   "outputs": [
    {
     "data": {
      "text/plain": [
       "array([[ 35, 786],\n",
       "       [237, 489],\n",
       "       [ 12, 393]])"
      ]
     },
     "execution_count": 230,
     "metadata": {},
     "output_type": "execute_result"
    }
   ],
   "source": [
    "np.array(d.genes[0].coordinates, dtype=np.int32)"
   ]
  },
  {
   "cell_type": "code",
   "execution_count": 257,
   "metadata": {},
   "outputs": [],
   "source": [
    "color = tuple(map(int, d.genes[0].color))"
   ]
  },
  {
   "cell_type": "code",
   "execution_count": 258,
   "metadata": {},
   "outputs": [],
   "source": [
    "color2 = tuple(list(color[:-1]) + [50])"
   ]
  },
  {
   "cell_type": "code",
   "execution_count": 259,
   "metadata": {},
   "outputs": [
    {
     "data": {
      "text/plain": [
       "(2, 204, 130, 50)"
      ]
     },
     "execution_count": 259,
     "metadata": {},
     "output_type": "execute_result"
    }
   ],
   "source": [
    "color2"
   ]
  },
  {
   "cell_type": "code",
   "execution_count": 264,
   "metadata": {},
   "outputs": [
    {
     "data": {
      "text/plain": [
       "<matplotlib.image.AxesImage at 0x1ff12d0b2b0>"
      ]
     },
     "execution_count": 264,
     "metadata": {},
     "output_type": "execute_result"
    },
    {
     "data": {
      "image/png": "[encoded data removed]",
      "text/plain": [
       "<Figure size 432x288 with 1 Axes>"
      ]
     },
     "metadata": {
      "needs_background": "light"
     },
     "output_type": "display_data"
    }
   ],
   "source": [
    "u = np.ones(np.asarray(target).shape).astype('int32')\n",
    "cv2.fillPoly(u, [np.array(d.genes[0].coordinates, dtype=np.int32)], color)\n",
    "plt.imshow(u)"
   ]
  },
  {
   "cell_type": "code",
   "execution_count": 275,
   "metadata": {},
   "outputs": [
    {
     "data": {
      "text/plain": [
       "numpy.ndarray"
      ]
     },
     "execution_count": 275,
     "metadata": {},
     "output_type": "execute_result"
    }
   ],
   "source": [
    "type(u)"
   ]
  },
  {
   "cell_type": "code",
   "execution_count": 311,
   "metadata": {},
   "outputs": [
    {
     "name": "stdout",
     "output_type": "stream",
     "text": [
      "0.7607843137254902\n",
      "0.38823529411764707\n",
      "0.6274509803921569\n",
      "1.0\n",
      "0.3607843137254902\n",
      "0.9372549019607843\n"
     ]
    }
   ],
   "source": [
    "canvas = np.ones(np.asarray(environment).shape)*255\n",
    "\n",
    "for polygon in d.genes:\n",
    "    pts = np.array(polygon.coordinates)\n",
    "    # pts = pts.reshape((-1, 1, 2))\n",
    "    col = tuple(map(int, polygon.color[:-1]))\n",
    "\n",
    "    overlay = canvas\n",
    "    output = canvas\n",
    "\n",
    "    alpha = polygon.color[-1]/255\n",
    "    print(alpha)\n",
    "    cv2.fillPoly(overlay, [pts], col)\n",
    "\n",
    "    cv2.addWeighted(overlay, alpha, output, 1 - alpha, 0, canvas)"
   ]
  },
  {
   "cell_type": "code",
   "execution_count": 313,
   "metadata": {},
   "outputs": [
    {
     "name": "stderr",
     "output_type": "stream",
     "text": [
      "Clipping input data to the valid range for imshow with RGB data ([0..1] for floats or [0..255] for integers).\n"
     ]
    },
    {
     "data": {
      "text/plain": [
       "<matplotlib.image.AxesImage at 0x1ff1299e9b0>"
      ]
     },
     "execution_count": 313,
     "metadata": {},
     "output_type": "execute_result"
    },
    {
     "data": {
      "image/png": "[encoded data removed]",
      "text/plain": [
       "<Figure size 432x288 with 1 Axes>"
      ]
     },
     "metadata": {
      "needs_background": "light"
     },
     "output_type": "display_data"
    }
   ],
   "source": [
    "plt.imshow(canvas)"
   ]
  },
  {
   "cell_type": "code",
   "execution_count": 307,
   "metadata": {},
   "outputs": [
    {
     "data": {
      "text/plain": [
       "[<genetic_stuff.Polygon at 0x1ff132d0e80>,\n",
       " <genetic_stuff.Polygon at 0x1ff12949eb8>,\n",
       " <genetic_stuff.Polygon at 0x1ff12949278>,\n",
       " <genetic_stuff.Polygon at 0x1ff12949748>,\n",
       " <genetic_stuff.Polygon at 0x1ff12949630>,\n",
       " <genetic_stuff.Polygon at 0x1ff129497b8>]"
      ]
     },
     "execution_count": 307,
     "metadata": {},
     "output_type": "execute_result"
    }
   ],
   "source": [
    "d.genes"
   ]
  },
  {
   "cell_type": "code",
   "execution_count": 305,
   "metadata": {},
   "outputs": [
    {
     "name": "stderr",
     "output_type": "stream",
     "text": [
      "Clipping input data to the valid range for imshow with RGB data ([0..1] for floats or [0..255] for integers).\n"
     ]
    },
    {
     "data": {
      "text/plain": [
       "<matplotlib.image.AxesImage at 0x1ff12de1fd0>"
      ]
     },
     "execution_count": 305,
     "metadata": {},
     "output_type": "execute_result"
    },
    {
     "data": {
      "image/png": "[encoded data removed]",
      "text/plain": [
       "<Figure size 432x288 with 1 Axes>"
      ]
     },
     "metadata": {
      "needs_background": "light"
     },
     "output_type": "display_data"
    }
   ],
   "source": [
    "plt.imshow(canvas)"
   ]
  },
  {
   "cell_type": "code",
   "execution_count": 303,
   "metadata": {},
   "outputs": [],
   "source": [
    "cv2.imshow('canvas' ,canvas)"
   ]
  },
  {
   "cell_type": "code",
   "execution_count": 241,
   "metadata": {},
   "outputs": [
    {
     "data": {
      "text/plain": [
       "<matplotlib.image.AxesImage at 0x1ff12f6b278>"
      ]
     },
     "execution_count": 241,
     "metadata": {},
     "output_type": "execute_result"
    },
    {
     "data": {
      "image/png": "[encoded data removed]",
      "text/plain": [
       "<Figure size 432x288 with 1 Axes>"
      ]
     },
     "metadata": {
      "needs_background": "light"
     },
     "output_type": "display_data"
    }
   ],
   "source": [
    "plt.imshow(np.append(np.zeros((200, 200, 3)), np.ones((200, 200, 1)), axis=2))"
   ]
  },
  {
   "cell_type": "code",
   "execution_count": 220,
   "metadata": {},
   "outputs": [
    {
     "data": {
      "text/plain": [
       "(800, 605, 4)"
      ]
     },
     "execution_count": 220,
     "metadata": {},
     "output_type": "execute_result"
    }
   ],
   "source": [
    "u.shape"
   ]
  },
  {
   "cell_type": "code",
   "execution_count": 174,
   "metadata": {},
   "outputs": [
    {
     "data": {
      "text/plain": [
       "[0, 0, 0, 128]"
      ]
     },
     "execution_count": 174,
     "metadata": {},
     "output_type": "execute_result"
    }
   ],
   "source": [
    "d.genes[0].color"
   ]
  },
  {
   "cell_type": "code",
   "execution_count": 175,
   "metadata": {},
   "outputs": [
    {
     "data": {
      "text/plain": [
       "[255, 255, 255, 128]"
      ]
     },
     "execution_count": 175,
     "metadata": {},
     "output_type": "execute_result"
    }
   ],
   "source": [
    "d.genes[1].color"
   ]
  },
  {
   "cell_type": "code",
   "execution_count": 178,
   "metadata": {},
   "outputs": [
    {
     "data": {
      "text/plain": [
       "<matplotlib.image.AxesImage at 0x1ff126b39b0>"
      ]
     },
     "execution_count": 178,
     "metadata": {},
     "output_type": "execute_result"
    },
    {
     "data": {
      "image/png": "[encoded data removed]",
      "text/plain": [
       "<Figure size 432x288 with 1 Axes>"
      ]
     },
     "metadata": {
      "needs_background": "light"
     },
     "output_type": "display_data"
    }
   ],
   "source": [
    "plt.imshow(np.asarray(environment)[..., :-1], alpha=1)"
   ]
  },
  {
   "cell_type": "code",
   "execution_count": 200,
   "metadata": {},
   "outputs": [
    {
     "data": {
      "text/plain": [
       "<matplotlib.image.AxesImage at 0x1ff13000a58>"
      ]
     },
     "execution_count": 200,
     "metadata": {},
     "output_type": "execute_result"
    },
    {
     "data": {
      "image/png": "[encoded data removed]",
      "text/plain": [
       "<Figure size 432x288 with 1 Axes>"
      ]
     },
     "metadata": {
      "needs_background": "light"
     },
     "output_type": "display_data"
    }
   ],
   "source": [
    "from PIL import Image\n",
    "from PIL import ImageDraw\n",
    "back = Image.new('RGBA', (512,512), (255,0,0,0))\n",
    "poly = Image.new('RGBA', (512,512))\n",
    "pdraw = ImageDraw.Draw(poly)\n",
    "pdraw.polygon([(128,128),(384,384),(128,384),(384,128)],\n",
    "              fill=(255,255,255,127),outline=(255,255,255,255))\n",
    "back.paste(poly,mask=poly)\n",
    "back.show()\n",
    "plt.imshow(back)"
   ]
  },
  {
   "cell_type": "code",
   "execution_count": 208,
   "metadata": {},
   "outputs": [
    {
     "ename": "ValueError",
     "evalue": "assignment destination is read-only",
     "output_type": "error",
     "traceback": [
      "\u001b[1;31m---------------------------------------------------------------------------\u001b[0m",
      "\u001b[1;31mValueError\u001b[0m                                Traceback (most recent call last)",
      "\u001b[1;32m<ipython-input-208-e08b6795df96>\u001b[0m in \u001b[0;36m<module>\u001b[1;34m\u001b[0m\n\u001b[0;32m      1\u001b[0m \u001b[0my\u001b[0m \u001b[1;33m=\u001b[0m \u001b[0mnp\u001b[0m\u001b[1;33m.\u001b[0m\u001b[0masarray\u001b[0m\u001b[1;33m(\u001b[0m\u001b[0mback\u001b[0m\u001b[1;33m)\u001b[0m\u001b[1;33m\u001b[0m\u001b[1;33m\u001b[0m\u001b[0m\n\u001b[1;32m----> 2\u001b[1;33m \u001b[0my\u001b[0m\u001b[1;33m[\u001b[0m\u001b[1;33m:\u001b[0m\u001b[1;33m,\u001b[0m \u001b[1;33m:\u001b[0m\u001b[1;33m,\u001b[0m \u001b[1;33m-\u001b[0m\u001b[1;36m1\u001b[0m\u001b[1;33m]\u001b[0m \u001b[1;33m=\u001b[0m \u001b[1;36m255\u001b[0m\u001b[1;33m\u001b[0m\u001b[1;33m\u001b[0m\u001b[0m\n\u001b[0m\u001b[0;32m      3\u001b[0m \u001b[0mplt\u001b[0m\u001b[1;33m.\u001b[0m\u001b[0mimshow\u001b[0m\u001b[1;33m(\u001b[0m\u001b[0my\u001b[0m\u001b[1;33m)\u001b[0m\u001b[1;33m\u001b[0m\u001b[1;33m\u001b[0m\u001b[0m\n",
      "\u001b[1;31mValueError\u001b[0m: assignment destination is read-only"
     ]
    }
   ],
   "source": [
    "y = np.asarray(back)\n",
    "y[:, :, -1] = 255\n",
    "plt.imshow(y)"
   ]
  },
  {
   "cell_type": "code",
   "execution_count": 206,
   "metadata": {},
   "outputs": [
    {
     "data": {
      "text/plain": [
       "array([[0, 0, 0, ..., 0, 0, 0],\n",
       "       [0, 0, 0, ..., 0, 0, 0],\n",
       "       [0, 0, 0, ..., 0, 0, 0],\n",
       "       ...,\n",
       "       [0, 0, 0, ..., 0, 0, 0],\n",
       "       [0, 0, 0, ..., 0, 0, 0],\n",
       "       [0, 0, 0, ..., 0, 0, 0]], dtype=uint8)"
      ]
     },
     "execution_count": 206,
     "metadata": {},
     "output_type": "execute_result"
    }
   ],
   "source": [
    "y[..., -1]"
   ]
  },
  {
   "cell_type": "code",
   "execution_count": 179,
   "metadata": {},
   "outputs": [
    {
     "data": {
      "image/png": "[encoded data removed]",
      "text/plain": [
       "<Figure size 432x288 with 1 Axes>"
      ]
     },
     "metadata": {
      "needs_background": "light"
     },
     "output_type": "display_data"
    }
   ],
   "source": [
    "d.genes[1].show()"
   ]
  },
  {
   "cell_type": "code",
   "execution_count": 120,
   "metadata": {},
   "outputs": [],
   "source": [
    "im = Image.new(COLOR_MODE, d.environment.size, (255, 255, 255, 255))\n"
   ]
  },
  {
   "cell_type": "code",
   "execution_count": 7,
   "metadata": {},
   "outputs": [],
   "source": [
    "im = ImageDraw.Draw(environment)"
   ]
  },
  {
   "cell_type": "code",
   "execution_count": 14,
   "metadata": {},
   "outputs": [
    {
     "data": {
      "image/png": "[encoded data removed]",
      "text/plain": [
       "<Figure size 432x288 with 1 Axes>"
      ]
     },
     "metadata": {
      "needs_background": "light"
     },
     "output_type": "display_data"
    }
   ],
   "source": [
    "d.genes[0].show()"
   ]
  },
  {
   "cell_type": "code",
   "execution_count": 12,
   "metadata": {},
   "outputs": [],
   "source": [
    "from tqdm import tqdm_notebook\n",
    "import matplotlib.pyplot as plt\n",
    "\n",
    "def optimizer(target, environment, pop_size, fitness_func, epochs):\n",
    "#     root = Tk()\n",
    "#     panel = Label(root)\n",
    "    pop = Population(target, pop_size, environment, fitness_func)\n",
    "    losses = []\n",
    "    for i in tqdm_notebook(range(epochs)):\n",
    "        pop.step()\n",
    "        losses.append(pop.organisms[0].fitness)\n",
    "        print(f'Iteration: {i} -- Best fitness: {pop.best.fitness} -- Worst fitness: {pop.organisms[-1].fitness}')\n",
    "        \n",
    "        if i % 10 == 0:\n",
    "            plt.imshow(pop.best.draw())\n",
    "            plt.show()\n",
    "#             print(f'Loss: {pop.organisms[0].fitness}')\n",
    "            \n",
    "#             best_organism = pop.organisms.best\n",
    "#             worst_organism = pop.organisms.organisms[-1]\n",
    "#             best_phenotype = draw_phenotype(best_organism)\n",
    "#             photo_image = ImageTk.PhotoImage(best_phenotype)\n",
    "#             panel.configure(image=photo_image)\n",
    "#             panel.image = photo_image\n",
    "#             panel.pack(side=\"bottom\", fill=\"both\", expand=\"yes\")\n",
    "\n",
    "#         root.after(EVOLUTION_PERIOD_MS, self.update_panel)\n",
    "#         root.mainloop()\n",
    "\n",
    "        \n",
    "    plt.plot(losses)"
   ]
  },
  {
   "cell_type": "code",
   "execution_count": null,
   "metadata": {},
   "outputs": [
    {
     "data": {
      "application/vnd.jupyter.widget-view+json": {
       "model_id": "e17d9784beda4a9184bb9e65e4b529b9",
       "version_major": 2,
       "version_minor": 0
      },
      "text/plain": [
       "HBox(children=(IntProgress(value=0, max=200), HTML(value='')))"
      ]
     },
     "metadata": {},
     "output_type": "display_data"
    },
    {
     "name": "stdout",
     "output_type": "stream",
     "text": [
      "\n",
      "Iteration: 0 -- Best fitness: 22369.9140625 -- Worst fitness: 28348.671875\n"
     ]
    },
    {
     "data": {
      "image/png": "[encoded data removed]",
      "text/plain": [
       "<Figure size 432x288 with 1 Axes>"
      ]
     },
     "metadata": {
      "needs_background": "light"
     },
     "output_type": "display_data"
    },
    {
     "name": "stdout",
     "output_type": "stream",
     "text": [
      "Iteration: 1 -- Best fitness: 21219.9140625 -- Worst fitness: 27370.576171875\n",
      "Iteration: 2 -- Best fitness: 21219.9140625 -- Worst fitness: 25933.009765625\n",
      "Iteration: 3 -- Best fitness: 21219.9140625 -- Worst fitness: 25214.330078125\n",
      "Iteration: 4 -- Best fitness: 21219.9140625 -- Worst fitness: 25089.119140625\n",
      "Iteration: 5 -- Best fitness: 21219.9140625 -- Worst fitness: 25725.236328125\n",
      "Iteration: 6 -- Best fitness: 21219.9140625 -- Worst fitness: 24831.15625\n",
      "Iteration: 7 -- Best fitness: 21219.9140625 -- Worst fitness: 26482.701171875\n",
      "Iteration: 8 -- Best fitness: 21219.9140625 -- Worst fitness: 26227.322265625\n",
      "Iteration: 9 -- Best fitness: 21219.9140625 -- Worst fitness: 25662.25390625\n",
      "Iteration: 10 -- Best fitness: 21219.9140625 -- Worst fitness: 27414.765625\n"
     ]
    },
    {
     "data": {
      "image/png": "[encoded data removed]",
      "text/plain": [
       "<Figure size 432x288 with 1 Axes>"
      ]
     },
     "metadata": {
      "needs_background": "light"
     },
     "output_type": "display_data"
    },
    {
     "name": "stdout",
     "output_type": "stream",
     "text": [
      "Iteration: 11 -- Best fitness: 21219.9140625 -- Worst fitness: 26430.794921875\n",
      "Iteration: 12 -- Best fitness: 20995.107421875 -- Worst fitness: 25179.681640625\n",
      "Iteration: 13 -- Best fitness: 20995.107421875 -- Worst fitness: 26521.220703125\n",
      "Iteration: 14 -- Best fitness: 20995.107421875 -- Worst fitness: 27604.83203125\n",
      "Iteration: 15 -- Best fitness: 20995.107421875 -- Worst fitness: 29026.28515625\n",
      "Iteration: 16 -- Best fitness: 20995.107421875 -- Worst fitness: 26820.515625\n",
      "Iteration: 17 -- Best fitness: 20995.107421875 -- Worst fitness: 27195.201171875\n",
      "Iteration: 18 -- Best fitness: 20995.107421875 -- Worst fitness: 27474.97265625\n",
      "Iteration: 19 -- Best fitness: 20995.107421875 -- Worst fitness: 26948.720703125\n",
      "Iteration: 20 -- Best fitness: 20995.107421875 -- Worst fitness: 27796.36328125\n"
     ]
    },
    {
     "data": {
      "image/png": "[encoded data removed]",
      "text/plain": [
       "<Figure size 432x288 with 1 Axes>"
      ]
     },
     "metadata": {
      "needs_background": "light"
     },
     "output_type": "display_data"
    },
    {
     "name": "stdout",
     "output_type": "stream",
     "text": [
      "Iteration: 21 -- Best fitness: 20995.107421875 -- Worst fitness: 27301.48828125\n",
      "Iteration: 22 -- Best fitness: 20995.107421875 -- Worst fitness: 26497.134765625\n",
      "Iteration: 23 -- Best fitness: 20995.107421875 -- Worst fitness: 27183.814453125\n",
      "Iteration: 24 -- Best fitness: 20995.107421875 -- Worst fitness: 27709.841796875\n",
      "Iteration: 25 -- Best fitness: 20995.107421875 -- Worst fitness: 28772.072265625\n",
      "Iteration: 26 -- Best fitness: 20995.107421875 -- Worst fitness: 27891.8203125\n",
      "Iteration: 27 -- Best fitness: 20995.107421875 -- Worst fitness: 27690.91015625\n",
      "Iteration: 28 -- Best fitness: 20995.107421875 -- Worst fitness: 25443.427734375\n",
      "Iteration: 29 -- Best fitness: 20995.107421875 -- Worst fitness: 26858.96875\n",
      "Iteration: 30 -- Best fitness: 20995.107421875 -- Worst fitness: 27601.203125\n"
     ]
    },
    {
     "data": {
      "image/png": "[encoded data removed]",
      "text/plain": [
       "<Figure size 432x288 with 1 Axes>"
      ]
     },
     "metadata": {
      "needs_background": "light"
     },
     "output_type": "display_data"
    },
    {
     "name": "stdout",
     "output_type": "stream",
     "text": [
      "Iteration: 31 -- Best fitness: 20995.107421875 -- Worst fitness: 27256.298828125\n",
      "Iteration: 32 -- Best fitness: 20995.107421875 -- Worst fitness: 26666.810546875\n",
      "Iteration: 33 -- Best fitness: 20995.107421875 -- Worst fitness: 27146.78125\n",
      "Iteration: 34 -- Best fitness: 20995.107421875 -- Worst fitness: 27860.08203125\n",
      "Iteration: 35 -- Best fitness: 20995.107421875 -- Worst fitness: 28423.330078125\n",
      "Iteration: 36 -- Best fitness: 20995.107421875 -- Worst fitness: 27272.345703125\n",
      "Iteration: 37 -- Best fitness: 20995.107421875 -- Worst fitness: 29327.869140625\n",
      "Iteration: 38 -- Best fitness: 20995.107421875 -- Worst fitness: 27984.990234375\n",
      "Iteration: 39 -- Best fitness: 20995.107421875 -- Worst fitness: 29019.013671875\n",
      "Iteration: 40 -- Best fitness: 20995.107421875 -- Worst fitness: 29098.501953125\n"
     ]
    },
    {
     "data": {
      "image/png": "[encoded data removed]",
      "text/plain": [
       "<Figure size 432x288 with 1 Axes>"
      ]
     },
     "metadata": {
      "needs_background": "light"
     },
     "output_type": "display_data"
    },
    {
     "name": "stdout",
     "output_type": "stream",
     "text": [
      "Iteration: 41 -- Best fitness: 20995.107421875 -- Worst fitness: 27613.185546875\n",
      "Iteration: 42 -- Best fitness: 20995.107421875 -- Worst fitness: 29241.34375\n",
      "Iteration: 43 -- Best fitness: 20995.107421875 -- Worst fitness: 29262.63671875\n",
      "Iteration: 44 -- Best fitness: 20995.107421875 -- Worst fitness: 28566.236328125\n",
      "Iteration: 45 -- Best fitness: 20995.107421875 -- Worst fitness: 26479.505859375\n",
      "Iteration: 46 -- Best fitness: 20995.107421875 -- Worst fitness: 26395.9140625\n",
      "Iteration: 47 -- Best fitness: 20995.107421875 -- Worst fitness: 25880.685546875\n",
      "Iteration: 48 -- Best fitness: 20995.107421875 -- Worst fitness: 27258.22265625\n",
      "Iteration: 49 -- Best fitness: 20995.107421875 -- Worst fitness: 28212.474609375\n",
      "Iteration: 50 -- Best fitness: 20995.107421875 -- Worst fitness: 26766.5546875\n"
     ]
    },
    {
     "data": {
      "image/png": "[encoded data removed]",
      "text/plain": [
       "<Figure size 432x288 with 1 Axes>"
      ]
     },
     "metadata": {
      "needs_background": "light"
     },
     "output_type": "display_data"
    },
    {
     "name": "stdout",
     "output_type": "stream",
     "text": [
      "Iteration: 51 -- Best fitness: 20995.107421875 -- Worst fitness: 28246.24609375\n",
      "Iteration: 52 -- Best fitness: 20995.107421875 -- Worst fitness: 28268.095703125\n",
      "Iteration: 53 -- Best fitness: 20995.107421875 -- Worst fitness: 29048.9765625\n",
      "Iteration: 54 -- Best fitness: 20995.107421875 -- Worst fitness: 29651.783203125\n",
      "Iteration: 55 -- Best fitness: 20995.107421875 -- Worst fitness: 26503.453125\n",
      "Iteration: 56 -- Best fitness: 20995.107421875 -- Worst fitness: 25741.271484375\n",
      "Iteration: 57 -- Best fitness: 20995.107421875 -- Worst fitness: 28403.0390625\n",
      "Iteration: 58 -- Best fitness: 20995.107421875 -- Worst fitness: 29366.06640625\n",
      "Iteration: 59 -- Best fitness: 20995.107421875 -- Worst fitness: 28551.578125\n",
      "Iteration: 60 -- Best fitness: 20995.107421875 -- Worst fitness: 29960.453125\n"
     ]
    },
    {
     "data": {
      "image/png": "[encoded data removed]",
      "text/plain": [
       "<Figure size 432x288 with 1 Axes>"
      ]
     },
     "metadata": {
      "needs_background": "light"
     },
     "output_type": "display_data"
    },
    {
     "name": "stdout",
     "output_type": "stream",
     "text": [
      "Iteration: 61 -- Best fitness: 20995.107421875 -- Worst fitness: 31974.880859375\n",
      "Iteration: 62 -- Best fitness: 20995.107421875 -- Worst fitness: 30253.171875\n",
      "Iteration: 63 -- Best fitness: 20995.107421875 -- Worst fitness: 27275.458984375\n",
      "Iteration: 64 -- Best fitness: 20995.107421875 -- Worst fitness: 28413.98046875\n",
      "Iteration: 65 -- Best fitness: 20995.107421875 -- Worst fitness: 29740.9921875\n",
      "Iteration: 66 -- Best fitness: 20995.107421875 -- Worst fitness: 27337.01171875\n",
      "Iteration: 67 -- Best fitness: 20995.107421875 -- Worst fitness: 24894.609375\n",
      "Iteration: 68 -- Best fitness: 20995.107421875 -- Worst fitness: 25182.23828125\n",
      "Iteration: 69 -- Best fitness: 20995.107421875 -- Worst fitness: 27126.59375\n",
      "Iteration: 70 -- Best fitness: 20995.107421875 -- Worst fitness: 30026.849609375\n"
     ]
    },
    {
     "data": {
      "image/png": "[encoded data removed]",
      "text/plain": [
       "<Figure size 432x288 with 1 Axes>"
      ]
     },
     "metadata": {
      "needs_background": "light"
     },
     "output_type": "display_data"
    },
    {
     "name": "stdout",
     "output_type": "stream",
     "text": [
      "Iteration: 71 -- Best fitness: 20995.107421875 -- Worst fitness: 30471.830078125\n",
      "Iteration: 72 -- Best fitness: 20995.107421875 -- Worst fitness: 27382.923828125\n",
      "Iteration: 73 -- Best fitness: 20995.107421875 -- Worst fitness: 26156.1328125\n",
      "Iteration: 74 -- Best fitness: 20995.107421875 -- Worst fitness: 25663.009765625\n",
      "Iteration: 75 -- Best fitness: 20995.107421875 -- Worst fitness: 26481.763671875\n",
      "Iteration: 76 -- Best fitness: 20995.107421875 -- Worst fitness: 25822.072265625\n",
      "Iteration: 77 -- Best fitness: 20995.107421875 -- Worst fitness: 27475.154296875\n",
      "Iteration: 78 -- Best fitness: 20995.107421875 -- Worst fitness: 28451.63671875\n",
      "Iteration: 79 -- Best fitness: 20995.107421875 -- Worst fitness: 28651.75\n",
      "Iteration: 80 -- Best fitness: 20995.107421875 -- Worst fitness: 28596.935546875\n"
     ]
    },
    {
     "data": {
      "image/png": "[encoded data removed]",
      "text/plain": [
       "<Figure size 432x288 with 1 Axes>"
      ]
     },
     "metadata": {
      "needs_background": "light"
     },
     "output_type": "display_data"
    },
    {
     "name": "stdout",
     "output_type": "stream",
     "text": [
      "Iteration: 81 -- Best fitness: 20995.107421875 -- Worst fitness: 28414.16796875\n",
      "Iteration: 82 -- Best fitness: 20995.107421875 -- Worst fitness: 26590.61328125\n",
      "Iteration: 83 -- Best fitness: 20995.107421875 -- Worst fitness: 25410.3203125\n",
      "Iteration: 84 -- Best fitness: 20995.107421875 -- Worst fitness: 26986.923828125\n",
      "Iteration: 85 -- Best fitness: 20214.70703125 -- Worst fitness: 21906.734375\n",
      "Iteration: 86 -- Best fitness: 20214.70703125 -- Worst fitness: 20548.880859375\n",
      "Iteration: 87 -- Best fitness: 20214.70703125 -- Worst fitness: 24565.244140625\n",
      "Iteration: 88 -- Best fitness: 20214.70703125 -- Worst fitness: 26060.48828125\n",
      "Iteration: 89 -- Best fitness: 20214.70703125 -- Worst fitness: 30103.08203125\n",
      "Iteration: 90 -- Best fitness: 20214.70703125 -- Worst fitness: 29974.25390625\n"
     ]
    },
    {
     "data": {
      "image/png": "[encoded data removed]",
      "text/plain": [
       "<Figure size 432x288 with 1 Axes>"
      ]
     },
     "metadata": {
      "needs_background": "light"
     },
     "output_type": "display_data"
    },
    {
     "name": "stdout",
     "output_type": "stream",
     "text": [
      "Iteration: 91 -- Best fitness: 20214.70703125 -- Worst fitness: 32864.75\n",
      "Iteration: 92 -- Best fitness: 20214.70703125 -- Worst fitness: 32071.021484375\n",
      "Iteration: 93 -- Best fitness: 20214.70703125 -- Worst fitness: 28653.4765625\n",
      "Iteration: 94 -- Best fitness: 20214.70703125 -- Worst fitness: 28366.4453125\n",
      "Iteration: 95 -- Best fitness: 20214.70703125 -- Worst fitness: 31000.404296875\n",
      "Iteration: 96 -- Best fitness: 20214.70703125 -- Worst fitness: 28848.48828125\n",
      "Iteration: 97 -- Best fitness: 20214.70703125 -- Worst fitness: 30290.08984375\n",
      "Iteration: 98 -- Best fitness: 20214.70703125 -- Worst fitness: 31000.5625\n",
      "Iteration: 99 -- Best fitness: 20214.70703125 -- Worst fitness: 25710.2578125\n",
      "Iteration: 100 -- Best fitness: 20214.70703125 -- Worst fitness: 29809.89453125\n"
     ]
    },
    {
     "data": {
      "image/png": "[encoded data removed]",
      "text/plain": [
       "<Figure size 432x288 with 1 Axes>"
      ]
     },
     "metadata": {
      "needs_background": "light"
     },
     "output_type": "display_data"
    },
    {
     "name": "stdout",
     "output_type": "stream",
     "text": [
      "Iteration: 101 -- Best fitness: 20214.70703125 -- Worst fitness: 27511.24609375\n",
      "Iteration: 102 -- Best fitness: 20214.70703125 -- Worst fitness: 26136.7734375\n",
      "Iteration: 103 -- Best fitness: 20214.70703125 -- Worst fitness: 25664.341796875\n",
      "Iteration: 104 -- Best fitness: 20214.70703125 -- Worst fitness: 26535.177734375\n",
      "Iteration: 105 -- Best fitness: 20214.70703125 -- Worst fitness: 29149.9296875\n",
      "Iteration: 106 -- Best fitness: 20214.70703125 -- Worst fitness: 28706.869140625\n",
      "Iteration: 107 -- Best fitness: 20214.70703125 -- Worst fitness: 26108.8671875\n",
      "Iteration: 108 -- Best fitness: 20214.70703125 -- Worst fitness: 27328.53125\n",
      "Iteration: 109 -- Best fitness: 20214.70703125 -- Worst fitness: 28159.6796875\n",
      "Iteration: 110 -- Best fitness: 20214.70703125 -- Worst fitness: 27369.919921875\n"
     ]
    },
    {
     "data": {
      "image/png": "[encoded data removed]",
      "text/plain": [
       "<Figure size 432x288 with 1 Axes>"
      ]
     },
     "metadata": {
      "needs_background": "light"
     },
     "output_type": "display_data"
    },
    {
     "name": "stdout",
     "output_type": "stream",
     "text": [
      "Iteration: 111 -- Best fitness: 20214.70703125 -- Worst fitness: 28555.525390625\n",
      "Iteration: 112 -- Best fitness: 20214.70703125 -- Worst fitness: 27806.80078125\n",
      "Iteration: 113 -- Best fitness: 20214.70703125 -- Worst fitness: 26517.22265625\n",
      "Iteration: 114 -- Best fitness: 20214.70703125 -- Worst fitness: 27821.568359375\n",
      "Iteration: 115 -- Best fitness: 20214.70703125 -- Worst fitness: 27184.115234375\n",
      "Iteration: 116 -- Best fitness: 20214.70703125 -- Worst fitness: 29332.341796875\n",
      "Iteration: 117 -- Best fitness: 20214.70703125 -- Worst fitness: 29165.84375\n",
      "Iteration: 118 -- Best fitness: 20214.70703125 -- Worst fitness: 29446.03515625\n",
      "Iteration: 119 -- Best fitness: 20214.70703125 -- Worst fitness: 30105.9921875\n",
      "Iteration: 120 -- Best fitness: 20214.70703125 -- Worst fitness: 31069.478515625\n"
     ]
    },
    {
     "data": {
      "image/png": "[encoded data removed]",
      "text/plain": [
       "<Figure size 432x288 with 1 Axes>"
      ]
     },
     "metadata": {
      "needs_background": "light"
     },
     "output_type": "display_data"
    },
    {
     "name": "stdout",
     "output_type": "stream",
     "text": [
      "Iteration: 121 -- Best fitness: 20214.70703125 -- Worst fitness: 28225.37109375\n",
      "Iteration: 122 -- Best fitness: 20214.70703125 -- Worst fitness: 26880.97265625\n",
      "Iteration: 123 -- Best fitness: 20214.70703125 -- Worst fitness: 27829.8671875\n",
      "Iteration: 124 -- Best fitness: 20214.70703125 -- Worst fitness: 28841.60546875\n",
      "Iteration: 125 -- Best fitness: 20214.70703125 -- Worst fitness: 29654.49609375\n",
      "Iteration: 126 -- Best fitness: 20214.70703125 -- Worst fitness: 28821.98046875\n",
      "Iteration: 127 -- Best fitness: 20214.70703125 -- Worst fitness: 26560.5\n",
      "Iteration: 128 -- Best fitness: 20214.70703125 -- Worst fitness: 27726.064453125\n",
      "Iteration: 129 -- Best fitness: 20214.70703125 -- Worst fitness: 23642.646484375\n",
      "Iteration: 130 -- Best fitness: 20214.70703125 -- Worst fitness: 24350.765625\n"
     ]
    },
    {
     "data": {
      "image/png": "[encoded data removed]",
      "text/plain": [
       "<Figure size 432x288 with 1 Axes>"
      ]
     },
     "metadata": {
      "needs_background": "light"
     },
     "output_type": "display_data"
    },
    {
     "name": "stdout",
     "output_type": "stream",
     "text": [
      "Iteration: 131 -- Best fitness: 20214.70703125 -- Worst fitness: 20717.248046875\n",
      "Iteration: 132 -- Best fitness: 20214.70703125 -- Worst fitness: 27146.1484375\n",
      "Iteration: 133 -- Best fitness: 20214.70703125 -- Worst fitness: 26463.64453125\n",
      "Iteration: 134 -- Best fitness: 20214.70703125 -- Worst fitness: 29034.71484375\n",
      "Iteration: 135 -- Best fitness: 20214.70703125 -- Worst fitness: 29143.248046875\n",
      "Iteration: 136 -- Best fitness: 20214.70703125 -- Worst fitness: 28246.666015625\n",
      "Iteration: 137 -- Best fitness: 20214.70703125 -- Worst fitness: 27419.5\n",
      "Iteration: 138 -- Best fitness: 20214.70703125 -- Worst fitness: 25912.857421875\n",
      "Iteration: 139 -- Best fitness: 20214.70703125 -- Worst fitness: 26294.09375\n",
      "Iteration: 140 -- Best fitness: 20214.70703125 -- Worst fitness: 26926.47265625\n"
     ]
    },
    {
     "data": {
      "image/png": "[encoded data removed]",
      "text/plain": [
       "<Figure size 432x288 with 1 Axes>"
      ]
     },
     "metadata": {
      "needs_background": "light"
     },
     "output_type": "display_data"
    },
    {
     "name": "stdout",
     "output_type": "stream",
     "text": [
      "Iteration: 141 -- Best fitness: 20214.70703125 -- Worst fitness: 25193.67578125\n",
      "Iteration: 142 -- Best fitness: 20214.70703125 -- Worst fitness: 27411.453125\n",
      "Iteration: 143 -- Best fitness: 20214.70703125 -- Worst fitness: 27787.21875\n",
      "Iteration: 144 -- Best fitness: 20214.70703125 -- Worst fitness: 30110.439453125\n",
      "Iteration: 145 -- Best fitness: 20214.70703125 -- Worst fitness: 28738.26953125\n",
      "Iteration: 146 -- Best fitness: 20214.70703125 -- Worst fitness: 29557.505859375\n",
      "Iteration: 147 -- Best fitness: 20214.70703125 -- Worst fitness: 29839.984375\n",
      "Iteration: 148 -- Best fitness: 20214.70703125 -- Worst fitness: 29633.818359375\n",
      "Iteration: 149 -- Best fitness: 20214.70703125 -- Worst fitness: 30017.9375\n",
      "Iteration: 150 -- Best fitness: 20214.70703125 -- Worst fitness: 26592.240234375\n"
     ]
    },
    {
     "data": {
      "image/png": "[encoded data removed]",
      "text/plain": [
       "<Figure size 432x288 with 1 Axes>"
      ]
     },
     "metadata": {
      "needs_background": "light"
     },
     "output_type": "display_data"
    },
    {
     "name": "stdout",
     "output_type": "stream",
     "text": [
      "Iteration: 151 -- Best fitness: 20214.70703125 -- Worst fitness: 29288.6015625\n",
      "Iteration: 152 -- Best fitness: 20214.70703125 -- Worst fitness: 29486.115234375\n",
      "Iteration: 153 -- Best fitness: 20214.70703125 -- Worst fitness: 26538.021484375\n",
      "Iteration: 154 -- Best fitness: 20214.70703125 -- Worst fitness: 27680.537109375\n",
      "Iteration: 155 -- Best fitness: 20214.70703125 -- Worst fitness: 28337.98828125\n",
      "Iteration: 156 -- Best fitness: 20214.70703125 -- Worst fitness: 26662.033203125\n",
      "Iteration: 157 -- Best fitness: 20214.70703125 -- Worst fitness: 25559.9375\n",
      "Iteration: 158 -- Best fitness: 20214.70703125 -- Worst fitness: 25098.58203125\n",
      "Iteration: 159 -- Best fitness: 20214.70703125 -- Worst fitness: 25071.53515625\n",
      "Iteration: 160 -- Best fitness: 20214.70703125 -- Worst fitness: 27934.17578125\n"
     ]
    },
    {
     "data": {
      "image/png": "[encoded data removed]",
      "text/plain": [
       "<Figure size 432x288 with 1 Axes>"
      ]
     },
     "metadata": {
      "needs_background": "light"
     },
     "output_type": "display_data"
    },
    {
     "name": "stdout",
     "output_type": "stream",
     "text": [
      "Iteration: 161 -- Best fitness: 20214.70703125 -- Worst fitness: 27900.654296875\n",
      "Iteration: 162 -- Best fitness: 20214.70703125 -- Worst fitness: 28134.224609375\n",
      "Iteration: 163 -- Best fitness: 20214.70703125 -- Worst fitness: 28107.4296875\n",
      "Iteration: 164 -- Best fitness: 20214.70703125 -- Worst fitness: 29285.36328125\n",
      "Iteration: 165 -- Best fitness: 20214.70703125 -- Worst fitness: 29474.3671875\n",
      "Iteration: 166 -- Best fitness: 20214.70703125 -- Worst fitness: 26466.25390625\n",
      "Iteration: 167 -- Best fitness: 20214.70703125 -- Worst fitness: 27143.4140625\n"
     ]
    }
   ],
   "source": [
    "optimizer(target, environment, pop_size=100, fitness_func=mse, epochs=200)"
   ]
  },
  {
   "cell_type": "code",
   "execution_count": null,
   "metadata": {},
   "outputs": [],
   "source": []
  },
  {
   "cell_type": "code",
   "execution_count": null,
   "metadata": {},
   "outputs": [],
   "source": []
  }
 ],
 "metadata": {
  "kernelspec": {
   "display_name": "fastai (3.6.7)",
   "language": "python",
   "name": "fastai"
  },
  "language_info": {
   "codemirror_mode": {
    "name": "ipython",
    "version": 3
   },
   "file_extension": ".py",
   "mimetype": "text/x-python",
   "name": "python",
   "nbconvert_exporter": "python",
   "pygments_lexer": "ipython3",
   "version": "3.7.2"
  }
 },
 "nbformat": 4,
 "nbformat_minor": 2
}
